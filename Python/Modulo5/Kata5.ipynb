{
 "cells": [
  {
   "cell_type": "markdown",
   "metadata": {},
   "source": [
    "# Ejercicio1 - Utilizar operadores aritméticos"
   ]
  },
  {
   "cell_type": "code",
   "execution_count": 1,
   "metadata": {},
   "outputs": [
    {
     "data": {
      "text/plain": [
       "float"
      ]
     },
     "execution_count": 1,
     "metadata": {},
     "output_type": "execute_result"
    }
   ],
   "source": [
    "# Exploremos cómo podemos crear un programa que pueda calcular la distancia entre dos planetas. \n",
    "# Comenzaremos usando dos distancias de planetas: Tierra (149.597.870 km) y Júpiter (778.547.200 km).\n",
    "\n",
    "# Crear variables para almacenar las dos distancias\n",
    "distanciaTierra = float(149597870)\n",
    "distanciaJupiter = float(778547200)\n",
    "\n",
    "type(distanciaTierra)"
   ]
  },
  {
   "cell_type": "code",
   "execution_count": 5,
   "metadata": {},
   "outputs": [
    {
     "name": "stdout",
     "output_type": "stream",
     "text": [
      "628949330.0\n",
      "390577533.93\n"
     ]
    }
   ],
   "source": [
    "# Calcular la distancia entre planetas\n",
    "\n",
    "resultado = distanciaJupiter - distanciaTierra\n",
    "resultadoMillas = resultado * 0.621\n",
    "print(resultado)\n",
    "print(resultadoMillas)"
   ]
  },
  {
   "cell_type": "markdown",
   "metadata": {},
   "source": [
    "# Ejercicio 2: convierte cadenas en números y usa valores absolutos"
   ]
  },
  {
   "cell_type": "code",
   "execution_count": 7,
   "metadata": {},
   "outputs": [
    {
     "name": "stdout",
     "output_type": "stream",
     "text": [
      "500\n",
      "310.5\n"
     ]
    }
   ],
   "source": [
    "# Almacenar las entradas del usuario\n",
    "planetaUno = input(\"Distancia planeta 1\")\n",
    "planetaDos = input(\"¿Cuál es tu nombre?\")\n",
    "\n",
    "# Convierte las cadenas de ambos planetas a números enteros\n",
    "planetaUno = int(planetaUno)\n",
    "planetaDos = int(planetaDos)\n",
    "\n",
    "# Realizar el cálculo y determinar el valor absoluto\n",
    "resultado = abs(planetaUno - planetaDos)\n",
    "\n",
    "# Convertir de KM a Millas\n",
    "resultadoMillas = resultado * 0.621\n",
    "\n",
    "print(resultado)\n",
    "print(resultadoMillas)"
   ]
  }
 ],
 "metadata": {
  "interpreter": {
   "hash": "8ab0d968002a578cf1e1aa041721a175249ba338f6da29efa5ef1a380c630376"
  },
  "kernelspec": {
   "display_name": "Python 3.8.8 ('base')",
   "language": "python",
   "name": "python3"
  },
  "language_info": {
   "codemirror_mode": {
    "name": "ipython",
    "version": 3
   },
   "file_extension": ".py",
   "mimetype": "text/x-python",
   "name": "python",
   "nbconvert_exporter": "python",
   "pygments_lexer": "ipython3",
   "version": "3.8.8"
  },
  "orig_nbformat": 4
 },
 "nbformat": 4,
 "nbformat_minor": 2
}
