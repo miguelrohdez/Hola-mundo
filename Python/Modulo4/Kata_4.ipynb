{
 "cells": [
  {
   "cell_type": "markdown",
   "metadata": {},
   "source": [
    "Ejercicio 1: Transformar cadenas"
   ]
  },
  {
   "cell_type": "code",
   "execution_count": 1,
   "metadata": {},
   "outputs": [],
   "source": [
    "text = \"\"\"Interesting facts about the Moon. The Moon is Earth's only satellite. There are several interesting facts about the Moon and how it affects life here on Earth. \n",
    "On average, the Moon moves 4cm away from the Earth every year. This yearly drift is not significant enough to cause immediate effects on Earth. The highest daylight temperature of the Moon is 127 C.\"\"\""
   ]
  },
  {
   "cell_type": "code",
   "execution_count": 3,
   "metadata": {},
   "outputs": [
    {
     "name": "stdout",
     "output_type": "stream",
     "text": [
      "['Interesting facts about the Moon', \" The Moon is Earth's only satellite\", ' There are several interesting facts about the Moon and how it affects life here on Earth', ' \\nOn average, the Moon moves 4cm away from the Earth every year', ' This yearly drift is not significant enough to cause immediate effects on Earth', ' The highest daylight temperature of the Moon is 127 C', '']\n"
     ]
    }
   ],
   "source": [
    "#Primero, divide el texto en cada oración para trabajar con su contenido\n",
    "\n",
    "oraciones = text.split('.')\n",
    "print(oraciones)"
   ]
  },
  {
   "cell_type": "code",
   "execution_count": 20,
   "metadata": {},
   "outputs": [
    {
     "name": "stdout",
     "output_type": "stream",
     "text": [
      "Interesting facts about the Moon ------> No es una oracion\n",
      " The Moon is Earth's only satellite ------> No es una oracion\n",
      " There are several interesting facts about the Moon and how it affects life here on Earth ------> No es una oracion\n",
      " \n",
      "On average, the Moon moves 4cm away from the Earth every year <--- ☺ Es una oracion\n",
      " This yearly drift is not significant enough to cause immediate effects on Earth ------> No es una oracion\n",
      " The highest daylight temperature of the Moon is 127 C <--- ☺ Es una oracion\n",
      " ------> No es una oracion\n"
     ]
    }
   ],
   "source": [
    "# Define las palabras pista: average, temperature y distance suenan bien\n",
    "\n",
    "for oracion in oraciones:\n",
    "    if \"average\" in oracion:\n",
    "        print(oracion + \" <--- ☺ Es una oracion\")\n",
    "    elif \"temperature\" in oracion:\n",
    "        print(oracion + \" <--- ☺ Es una oracion\")\n",
    "    elif \"distance\" in oracion:\n",
    "        print(oracion + \" <--- ☺ Es una oracion\")\n",
    "    else:\n",
    "        print(oracion + \" ------> No es una oracion\")\n",
    "\n"
   ]
  }
 ],
 "metadata": {
  "interpreter": {
   "hash": "8ab0d968002a578cf1e1aa041721a175249ba338f6da29efa5ef1a380c630376"
  },
  "kernelspec": {
   "display_name": "Python 3.8.8 64-bit ('base': conda)",
   "language": "python",
   "name": "python3"
  },
  "language_info": {
   "codemirror_mode": {
    "name": "ipython",
    "version": 3
   },
   "file_extension": ".py",
   "mimetype": "text/x-python",
   "name": "python",
   "nbconvert_exporter": "python",
   "pygments_lexer": "ipython3",
   "version": "3.8.8"
  },
  "orig_nbformat": 4
 },
 "nbformat": 4,
 "nbformat_minor": 2
}
