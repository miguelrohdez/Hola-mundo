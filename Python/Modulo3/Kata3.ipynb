{
 "cells": [
  {
   "cell_type": "code",
   "execution_count": 4,
   "metadata": {},
   "outputs": [
    {
     "name": "stdout",
     "output_type": "stream",
     "text": [
      "36\n",
      "Advertencia!! Asteroide!!\n"
     ]
    }
   ],
   "source": [
    "# Añadir el código necesario para crear una variable que guarde la velocidad del asteroide.\n",
    "# Escribe una expresión de prueba para calcular si necesita una advertencia.\n",
    "# Agregue las instrucciones que se ejecutarán si la expresión de prueba es true o false.\n",
    "\n",
    "velocidadAsteroide = input(\"A que velocidad va el asteroide: \")\n",
    "\n",
    "if int(velocidadAsteroide) > 25:\n",
    "    print(\"Advertencia!! Asteroide!!\")\n",
    "else:\n",
    "    print(\"Normal\")"
   ]
  },
  {
   "cell_type": "code",
   "execution_count": 6,
   "metadata": {},
   "outputs": [
    {
     "name": "stdout",
     "output_type": "stream",
     "text": [
      "Produce rayo\n"
     ]
    }
   ],
   "source": [
    "# Agrega el código para crear una variable para un asteroide que viaja a 19 km/s\n",
    "# Escribe varias expresiones de prueba para determinar si puedes ver el rayo de luz desde la tierra\n",
    "# Agrega las instrucciones que se ejecutarán si las expresiones de prueba son True o False\n",
    "\n",
    "velocidadAsteroide = input(\"A que velocidad va el asteroide: \")\n",
    "if int(velocidadAsteroide) >= 20:\n",
    "    print(\"Produce rayo\")\n",
    "else:\n",
    "    print(\"No produce nada\")"
   ]
  },
  {
   "cell_type": "code",
   "execution_count": 19,
   "metadata": {},
   "outputs": [
    {
     "name": "stdout",
     "output_type": "stream",
     "text": [
      "Produce rayo\n",
      "Advertencia!! Asteroide muy deprisa!!\n"
     ]
    }
   ],
   "source": [
    "velocidadAsteroide = input(\"A que velocidad va el asteroide: \")\n",
    "if int(velocidadAsteroide) >= 20:\n",
    "    print(\"Produce rayo\")\n",
    "    if int(velocidadAsteroide) > 25:\n",
    "        print(\"Advertencia!! Asteroide muy deprisa!!\")\n",
    "else:\n",
    "    print(\"Todo tranquilo\")\n"
   ]
  },
  {
   "cell_type": "code",
   "execution_count": 5,
   "metadata": {},
   "outputs": [
    {
     "name": "stdout",
     "output_type": "stream",
     "text": [
      "Produce rayo\n",
      "Advertencia!! Asteroide muy deprisa!!\n"
     ]
    }
   ],
   "source": [
    "# Agrega el código para crear nuevas variables para la velocidad y el tamaño del asteroide\n",
    "# Para probar el código, prueba con varias velocidades y tamaños\n",
    "# Escribe varias expresiones de prueba o combinaciones de expresiones de prueba para determinar qué mensaje se d\n",
    "\n",
    "velocidadAsteroide = int(input(\"A que velocidad va el asteroide: \"))\n",
    "tamanioAsteroide = int(input(\"Cual es el tamanio del asteroide: \"))\n",
    "\n",
    "if velocidadAsteroide > 25 and tamanioAsteroide > 25:\n",
    "    print(\"Causa mucho daño\")\n",
    "elif velocidadAsteroide >= 20:\n",
    "    print(\"Produce rayo\")\n",
    "    if velocidadAsteroide > 25:\n",
    "        print(\"Advertencia!! Asteroide muy deprisa!!\")\n",
    "else:\n",
    "    print(\"Todo tranquilo\") "
   ]
  }
 ],
 "metadata": {
  "interpreter": {
   "hash": "9efce205f64ad363cd9f14615485aca38ee4ef0915866e318aa83c8d0c93f6fc"
  },
  "kernelspec": {
   "display_name": "Python 3.10.2 64-bit",
   "language": "python",
   "name": "python3"
  },
  "language_info": {
   "codemirror_mode": {
    "name": "ipython",
    "version": 3
   },
   "file_extension": ".py",
   "mimetype": "text/x-python",
   "name": "python",
   "nbconvert_exporter": "python",
   "pygments_lexer": "ipython3",
   "version": "3.7.8rc1"
  },
  "orig_nbformat": 4
 },
 "nbformat": 4,
 "nbformat_minor": 2
}
