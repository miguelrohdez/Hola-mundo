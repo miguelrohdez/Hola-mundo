{
 "cells": [
  {
   "cell_type": "code",
   "execution_count": 4,
   "metadata": {},
   "outputs": [
    {
     "name": "stdout",
     "output_type": "stream",
     "text": [
      "36\n",
      "Advertencia!! Asteroide!!\n"
     ]
    }
   ],
   "source": [
    "velocidadAsteroide = input(\"A que velocidad va el asteroide: \")\n",
    "\n",
    "if int(velocidadAsteroide) > 25:\n",
    "    print(\"Advertencia!! Asteroide!!\")\n",
    "else:\n",
    "    print(\"No \")"
   ]
  },
  {
   "cell_type": "code",
   "execution_count": 6,
   "metadata": {},
   "outputs": [
    {
     "name": "stdout",
     "output_type": "stream",
     "text": [
      "Produce rayo\n"
     ]
    }
   ],
   "source": [
    "velocidadAsteroide = input(\"A que velocidad va el asteroide: \")\n",
    "if int(velocidadAsteroide) >= 20:\n",
    "    print(\"Produce rayo\")\n",
    "else:\n",
    "    print(\"No produce nada\")"
   ]
  },
  {
   "cell_type": "code",
   "execution_count": 19,
   "metadata": {},
   "outputs": [
    {
     "name": "stdout",
     "output_type": "stream",
     "text": [
      "Produce rayo\n",
      "Advertencia!! Asteroide muy deprisa!!\n"
     ]
    }
   ],
   "source": [
    "velocidadAsteroide = input(\"A que velocidad va el asteroide: \")\n",
    "if int(velocidadAsteroide) >= 20:\n",
    "    print(\"Produce rayo\")\n",
    "    if int(velocidadAsteroide) > 25:\n",
    "        print(\"Advertencia!! Asteroide muy deprisa!!\")\n",
    "else:\n",
    "    print(\"Todo tranquilo\")\n"
   ]
  },
  {
   "cell_type": "code",
   "execution_count": null,
   "metadata": {},
   "outputs": [],
   "source": []
  }
 ],
 "metadata": {
  "interpreter": {
   "hash": "9efce205f64ad363cd9f14615485aca38ee4ef0915866e318aa83c8d0c93f6fc"
  },
  "kernelspec": {
   "display_name": "Python 3.10.2 64-bit",
   "language": "python",
   "name": "python3"
  },
  "language_info": {
   "codemirror_mode": {
    "name": "ipython",
    "version": 3
   },
   "file_extension": ".py",
   "mimetype": "text/x-python",
   "name": "python",
   "nbconvert_exporter": "python",
   "pygments_lexer": "ipython3",
   "version": "3.10.2"
  },
  "orig_nbformat": 4
 },
 "nbformat": 4,
 "nbformat_minor": 2
}
